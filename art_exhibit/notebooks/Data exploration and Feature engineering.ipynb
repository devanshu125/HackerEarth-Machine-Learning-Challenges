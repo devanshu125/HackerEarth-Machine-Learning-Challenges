{
 "cells": [
  {
   "cell_type": "code",
   "execution_count": 1,
   "metadata": {},
   "outputs": [],
   "source": [
    "import pandas as pd\n",
    "import numpy as np\n",
    "\n",
    "import matplotlib.pyplot as plt\n",
    "import seaborn as sns\n",
    "\n",
    "from scipy.stats import boxcox"
   ]
  },
  {
   "cell_type": "code",
   "execution_count": 2,
   "metadata": {},
   "outputs": [],
   "source": [
    "train = pd.read_csv(\"../input/train.csv\")"
   ]
  },
  {
   "cell_type": "code",
   "execution_count": 3,
   "metadata": {},
   "outputs": [
    {
     "data": {
      "text/plain": [
       "(6500, 20)"
      ]
     },
     "execution_count": 3,
     "metadata": {},
     "output_type": "execute_result"
    }
   ],
   "source": [
    "train.shape"
   ]
  },
  {
   "cell_type": "code",
   "execution_count": 4,
   "metadata": {
    "scrolled": false
   },
   "outputs": [
    {
     "data": {
      "text/html": [
       "<div>\n",
       "<style scoped>\n",
       "    .dataframe tbody tr th:only-of-type {\n",
       "        vertical-align: middle;\n",
       "    }\n",
       "\n",
       "    .dataframe tbody tr th {\n",
       "        vertical-align: top;\n",
       "    }\n",
       "\n",
       "    .dataframe thead th {\n",
       "        text-align: right;\n",
       "    }\n",
       "</style>\n",
       "<table border=\"1\" class=\"dataframe\">\n",
       "  <thead>\n",
       "    <tr style=\"text-align: right;\">\n",
       "      <th></th>\n",
       "      <th>Customer Id</th>\n",
       "      <th>Artist Name</th>\n",
       "      <th>Artist Reputation</th>\n",
       "      <th>Height</th>\n",
       "      <th>Width</th>\n",
       "      <th>Weight</th>\n",
       "      <th>Material</th>\n",
       "      <th>Price Of Sculpture</th>\n",
       "      <th>Base Shipping Price</th>\n",
       "      <th>International</th>\n",
       "      <th>Express Shipment</th>\n",
       "      <th>Installation Included</th>\n",
       "      <th>Transport</th>\n",
       "      <th>Fragile</th>\n",
       "      <th>Customer Information</th>\n",
       "      <th>Remote Location</th>\n",
       "      <th>Scheduled Date</th>\n",
       "      <th>Delivery Date</th>\n",
       "      <th>Customer Location</th>\n",
       "      <th>Cost</th>\n",
       "    </tr>\n",
       "  </thead>\n",
       "  <tbody>\n",
       "    <tr>\n",
       "      <th>0</th>\n",
       "      <td>fffe3900350033003300</td>\n",
       "      <td>Billy Jenkins</td>\n",
       "      <td>0.26</td>\n",
       "      <td>17.0</td>\n",
       "      <td>6.0</td>\n",
       "      <td>4128.0</td>\n",
       "      <td>Brass</td>\n",
       "      <td>13.91</td>\n",
       "      <td>16.27</td>\n",
       "      <td>Yes</td>\n",
       "      <td>Yes</td>\n",
       "      <td>No</td>\n",
       "      <td>Airways</td>\n",
       "      <td>No</td>\n",
       "      <td>Working Class</td>\n",
       "      <td>No</td>\n",
       "      <td>06/07/15</td>\n",
       "      <td>06/03/15</td>\n",
       "      <td>New Michelle, OH 50777</td>\n",
       "      <td>-283.29</td>\n",
       "    </tr>\n",
       "    <tr>\n",
       "      <th>1</th>\n",
       "      <td>fffe3800330031003900</td>\n",
       "      <td>Jean Bryant</td>\n",
       "      <td>0.28</td>\n",
       "      <td>3.0</td>\n",
       "      <td>3.0</td>\n",
       "      <td>61.0</td>\n",
       "      <td>Brass</td>\n",
       "      <td>6.83</td>\n",
       "      <td>15.00</td>\n",
       "      <td>No</td>\n",
       "      <td>No</td>\n",
       "      <td>No</td>\n",
       "      <td>Roadways</td>\n",
       "      <td>No</td>\n",
       "      <td>Working Class</td>\n",
       "      <td>No</td>\n",
       "      <td>03/06/17</td>\n",
       "      <td>03/05/17</td>\n",
       "      <td>New Michaelport, WY 12072</td>\n",
       "      <td>-159.96</td>\n",
       "    </tr>\n",
       "    <tr>\n",
       "      <th>2</th>\n",
       "      <td>fffe3600370035003100</td>\n",
       "      <td>Laura Miller</td>\n",
       "      <td>0.07</td>\n",
       "      <td>8.0</td>\n",
       "      <td>5.0</td>\n",
       "      <td>237.0</td>\n",
       "      <td>Clay</td>\n",
       "      <td>4.96</td>\n",
       "      <td>21.18</td>\n",
       "      <td>No</td>\n",
       "      <td>No</td>\n",
       "      <td>No</td>\n",
       "      <td>Roadways</td>\n",
       "      <td>Yes</td>\n",
       "      <td>Working Class</td>\n",
       "      <td>Yes</td>\n",
       "      <td>03/09/15</td>\n",
       "      <td>03/08/15</td>\n",
       "      <td>Bowmanshire, WA 19241</td>\n",
       "      <td>-154.29</td>\n",
       "    </tr>\n",
       "    <tr>\n",
       "      <th>3</th>\n",
       "      <td>fffe350031003300</td>\n",
       "      <td>Robert Chaires</td>\n",
       "      <td>0.12</td>\n",
       "      <td>9.0</td>\n",
       "      <td>NaN</td>\n",
       "      <td>NaN</td>\n",
       "      <td>Aluminium</td>\n",
       "      <td>5.81</td>\n",
       "      <td>16.31</td>\n",
       "      <td>No</td>\n",
       "      <td>No</td>\n",
       "      <td>No</td>\n",
       "      <td>NaN</td>\n",
       "      <td>No</td>\n",
       "      <td>Wealthy</td>\n",
       "      <td>Yes</td>\n",
       "      <td>05/24/15</td>\n",
       "      <td>05/20/15</td>\n",
       "      <td>East Robyn, KY 86375</td>\n",
       "      <td>-161.16</td>\n",
       "    </tr>\n",
       "    <tr>\n",
       "      <th>4</th>\n",
       "      <td>fffe3900320038003400</td>\n",
       "      <td>Rosalyn Krol</td>\n",
       "      <td>0.15</td>\n",
       "      <td>17.0</td>\n",
       "      <td>6.0</td>\n",
       "      <td>324.0</td>\n",
       "      <td>Aluminium</td>\n",
       "      <td>3.18</td>\n",
       "      <td>11.94</td>\n",
       "      <td>Yes</td>\n",
       "      <td>Yes</td>\n",
       "      <td>Yes</td>\n",
       "      <td>Airways</td>\n",
       "      <td>No</td>\n",
       "      <td>Working Class</td>\n",
       "      <td>No</td>\n",
       "      <td>12/18/16</td>\n",
       "      <td>12/14/16</td>\n",
       "      <td>Aprilside, PA 52793</td>\n",
       "      <td>-159.23</td>\n",
       "    </tr>\n",
       "    <tr>\n",
       "      <th>5</th>\n",
       "      <td>fffe3300390039003900</td>\n",
       "      <td>Tracy Francis</td>\n",
       "      <td>0.99</td>\n",
       "      <td>46.0</td>\n",
       "      <td>19.0</td>\n",
       "      <td>1178.0</td>\n",
       "      <td>Wood</td>\n",
       "      <td>6.16</td>\n",
       "      <td>16.88</td>\n",
       "      <td>No</td>\n",
       "      <td>Yes</td>\n",
       "      <td>No</td>\n",
       "      <td>NaN</td>\n",
       "      <td>No</td>\n",
       "      <td>Wealthy</td>\n",
       "      <td>No</td>\n",
       "      <td>08/28/15</td>\n",
       "      <td>08/26/15</td>\n",
       "      <td>Maddenberg, AL 43096</td>\n",
       "      <td>-1922.78</td>\n",
       "    </tr>\n",
       "    <tr>\n",
       "      <th>6</th>\n",
       "      <td>fffe3800360033003700</td>\n",
       "      <td>David Hawes</td>\n",
       "      <td>0.64</td>\n",
       "      <td>17.0</td>\n",
       "      <td>9.0</td>\n",
       "      <td>7264.0</td>\n",
       "      <td>Brass</td>\n",
       "      <td>8.26</td>\n",
       "      <td>90.67</td>\n",
       "      <td>No</td>\n",
       "      <td>Yes</td>\n",
       "      <td>No</td>\n",
       "      <td>Roadways</td>\n",
       "      <td>No</td>\n",
       "      <td>Working Class</td>\n",
       "      <td>No</td>\n",
       "      <td>06/05/16</td>\n",
       "      <td>06/02/16</td>\n",
       "      <td>South Matthew, WV 76033</td>\n",
       "      <td>-1536.66</td>\n",
       "    </tr>\n",
       "    <tr>\n",
       "      <th>7</th>\n",
       "      <td>fffe3800300039003800</td>\n",
       "      <td>David Osher</td>\n",
       "      <td>0.74</td>\n",
       "      <td>23.0</td>\n",
       "      <td>10.0</td>\n",
       "      <td>3287.0</td>\n",
       "      <td>Clay</td>\n",
       "      <td>12.81</td>\n",
       "      <td>13.25</td>\n",
       "      <td>Yes</td>\n",
       "      <td>No</td>\n",
       "      <td>No</td>\n",
       "      <td>Waterways</td>\n",
       "      <td>Yes</td>\n",
       "      <td>Wealthy</td>\n",
       "      <td>No</td>\n",
       "      <td>06/04/19</td>\n",
       "      <td>05/31/19</td>\n",
       "      <td>Davidmouth, CA 37824</td>\n",
       "      <td>-422.42</td>\n",
       "    </tr>\n",
       "    <tr>\n",
       "      <th>8</th>\n",
       "      <td>fffe3800330032003900</td>\n",
       "      <td>Arnold Reel</td>\n",
       "      <td>0.00</td>\n",
       "      <td>6.0</td>\n",
       "      <td>4.0</td>\n",
       "      <td>108.0</td>\n",
       "      <td>Clay</td>\n",
       "      <td>3.98</td>\n",
       "      <td>19.76</td>\n",
       "      <td>Yes</td>\n",
       "      <td>No</td>\n",
       "      <td>No</td>\n",
       "      <td>Waterways</td>\n",
       "      <td>Yes</td>\n",
       "      <td>Working Class</td>\n",
       "      <td>Yes</td>\n",
       "      <td>08/27/18</td>\n",
       "      <td>08/23/18</td>\n",
       "      <td>Lisaville, ND 43925</td>\n",
       "      <td>-160.10</td>\n",
       "    </tr>\n",
       "    <tr>\n",
       "      <th>9</th>\n",
       "      <td>fffe3800310031003800</td>\n",
       "      <td>James Comfort</td>\n",
       "      <td>0.12</td>\n",
       "      <td>23.0</td>\n",
       "      <td>9.0</td>\n",
       "      <td>195226.0</td>\n",
       "      <td>Marble</td>\n",
       "      <td>245.63</td>\n",
       "      <td>49.25</td>\n",
       "      <td>No</td>\n",
       "      <td>No</td>\n",
       "      <td>No</td>\n",
       "      <td>Roadways</td>\n",
       "      <td>No</td>\n",
       "      <td>Working Class</td>\n",
       "      <td>No</td>\n",
       "      <td>07/14/16</td>\n",
       "      <td>07/10/16</td>\n",
       "      <td>Jacobland, WV 85997</td>\n",
       "      <td>-834.27</td>\n",
       "    </tr>\n",
       "  </tbody>\n",
       "</table>\n",
       "</div>"
      ],
      "text/plain": [
       "            Customer Id     Artist Name  Artist Reputation  Height  Width  \\\n",
       "0  fffe3900350033003300   Billy Jenkins               0.26    17.0    6.0   \n",
       "1  fffe3800330031003900     Jean Bryant               0.28     3.0    3.0   \n",
       "2  fffe3600370035003100    Laura Miller               0.07     8.0    5.0   \n",
       "3      fffe350031003300  Robert Chaires               0.12     9.0    NaN   \n",
       "4  fffe3900320038003400    Rosalyn Krol               0.15    17.0    6.0   \n",
       "5  fffe3300390039003900   Tracy Francis               0.99    46.0   19.0   \n",
       "6  fffe3800360033003700     David Hawes               0.64    17.0    9.0   \n",
       "7  fffe3800300039003800     David Osher               0.74    23.0   10.0   \n",
       "8  fffe3800330032003900     Arnold Reel               0.00     6.0    4.0   \n",
       "9  fffe3800310031003800   James Comfort               0.12    23.0    9.0   \n",
       "\n",
       "     Weight   Material  Price Of Sculpture  Base Shipping Price International  \\\n",
       "0    4128.0      Brass               13.91                16.27           Yes   \n",
       "1      61.0      Brass                6.83                15.00            No   \n",
       "2     237.0       Clay                4.96                21.18            No   \n",
       "3       NaN  Aluminium                5.81                16.31            No   \n",
       "4     324.0  Aluminium                3.18                11.94           Yes   \n",
       "5    1178.0       Wood                6.16                16.88            No   \n",
       "6    7264.0      Brass                8.26                90.67            No   \n",
       "7    3287.0       Clay               12.81                13.25           Yes   \n",
       "8     108.0       Clay                3.98                19.76           Yes   \n",
       "9  195226.0     Marble              245.63                49.25            No   \n",
       "\n",
       "  Express Shipment Installation Included  Transport Fragile  \\\n",
       "0              Yes                    No    Airways      No   \n",
       "1               No                    No   Roadways      No   \n",
       "2               No                    No   Roadways     Yes   \n",
       "3               No                    No        NaN      No   \n",
       "4              Yes                   Yes    Airways      No   \n",
       "5              Yes                    No        NaN      No   \n",
       "6              Yes                    No   Roadways      No   \n",
       "7               No                    No  Waterways     Yes   \n",
       "8               No                    No  Waterways     Yes   \n",
       "9               No                    No   Roadways      No   \n",
       "\n",
       "  Customer Information Remote Location Scheduled Date Delivery Date  \\\n",
       "0        Working Class              No       06/07/15      06/03/15   \n",
       "1        Working Class              No       03/06/17      03/05/17   \n",
       "2        Working Class             Yes       03/09/15      03/08/15   \n",
       "3              Wealthy             Yes       05/24/15      05/20/15   \n",
       "4        Working Class              No       12/18/16      12/14/16   \n",
       "5              Wealthy              No       08/28/15      08/26/15   \n",
       "6        Working Class              No       06/05/16      06/02/16   \n",
       "7              Wealthy              No       06/04/19      05/31/19   \n",
       "8        Working Class             Yes       08/27/18      08/23/18   \n",
       "9        Working Class              No       07/14/16      07/10/16   \n",
       "\n",
       "           Customer Location     Cost  \n",
       "0     New Michelle, OH 50777  -283.29  \n",
       "1  New Michaelport, WY 12072  -159.96  \n",
       "2      Bowmanshire, WA 19241  -154.29  \n",
       "3       East Robyn, KY 86375  -161.16  \n",
       "4        Aprilside, PA 52793  -159.23  \n",
       "5       Maddenberg, AL 43096 -1922.78  \n",
       "6    South Matthew, WV 76033 -1536.66  \n",
       "7       Davidmouth, CA 37824  -422.42  \n",
       "8        Lisaville, ND 43925  -160.10  \n",
       "9        Jacobland, WV 85997  -834.27  "
      ]
     },
     "execution_count": 4,
     "metadata": {},
     "output_type": "execute_result"
    }
   ],
   "source": [
    "train.head(10)"
   ]
  },
  {
   "cell_type": "code",
   "execution_count": 5,
   "metadata": {},
   "outputs": [
    {
     "data": {
      "text/plain": [
       "<matplotlib.axes._subplots.AxesSubplot at 0x18dd8144908>"
      ]
     },
     "execution_count": 5,
     "metadata": {},
     "output_type": "execute_result"
    },
    {
     "data": {
      "image/png": "[encoded data removed]",
      "text/plain": [
       "<Figure size 864x576 with 2 Axes>"
      ]
     },
     "metadata": {
      "needs_background": "light"
     },
     "output_type": "display_data"
    }
   ],
   "source": [
    "import seaborn as sns\n",
    "\n",
    "plt.figure(figsize=(12,8))\n",
    "sns.heatmap(train.corr(), annot=True)"
   ]
  },
  {
   "cell_type": "code",
   "execution_count": 13,
   "metadata": {},
   "outputs": [
    {
     "data": {
      "text/plain": [
       "(array([3427.,  868.,  659.,  506.,  392.,  310.,  190.,   99.,   44.,\n",
       "           5.]),\n",
       " array([ 1.09861229,  2.27416956,  3.44972683,  4.6252841 ,  5.80084137,\n",
       "         6.97639864,  8.15195591,  9.32751318, 10.50307045, 11.67862772,\n",
       "        12.85418499]),\n",
       " <a list of 10 Patch objects>)"
      ]
     },
     "execution_count": 13,
     "metadata": {},
     "output_type": "execute_result"
    },
    {
     "data": {
      "image/png": "[encoded data removed]",
      "text/plain": [
       "<Figure size 864x576 with 1 Axes>"
      ]
     },
     "metadata": {
      "needs_background": "light"
     },
     "output_type": "display_data"
    }
   ],
   "source": [
    "plt.figure(figsize=(12,8))\n",
    "plt.hist(np.log(train['Price Of Sculpture']))"
   ]
  },
  {
   "cell_type": "code",
   "execution_count": null,
   "metadata": {
    "scrolled": false
   },
   "outputs": [],
   "source": [
    "plt.figure(figsize=(10,8))\n",
    "num_cols = [\"Artist Reputation\", \"Height\", \"Width\", \"Price Of Sculpture\", \"Base Shipping Price\", \"Weight\"]\n",
    "for col in num_cols:\n",
    "    plt.hist(train[col])\n",
    "    plt.title(f\"Distribution of {col}\")\n",
    "    plt.show()"
   ]
  },
  {
   "cell_type": "code",
   "execution_count": null,
   "metadata": {},
   "outputs": [],
   "source": [
    "train['Weight'] = np.log(train['Weight'])"
   ]
  },
  {
   "cell_type": "code",
   "execution_count": null,
   "metadata": {},
   "outputs": [],
   "source": [
    "plt.scatter(x=train['Artist Reputation'], y=train['Weight'], alpha=0.5)"
   ]
  },
  {
   "cell_type": "code",
   "execution_count": null,
   "metadata": {},
   "outputs": [],
   "source": [
    "plt.hist(boxcox(train['Price Of Sculpture'], -0.3))"
   ]
  },
  {
   "cell_type": "code",
   "execution_count": null,
   "metadata": {},
   "outputs": [],
   "source": [
    "train['Remote Location'].value_counts(normalize=True)\n"
   ]
  },
  {
   "cell_type": "code",
   "execution_count": null,
   "metadata": {},
   "outputs": [],
   "source": [
    "from scipy.stats import boxcox\n",
    "\n",
    "# num_cols = [\"Price Of Sculpture\", \"Base Shipping Price\", \"Weight\"] # \"Artist Reputation\"\n",
    "for col in num_cols:\n",
    "    try:\n",
    "        train[col], lam = boxcox(train[col])\n",
    "        print(f\"{col}: {lam}\")\n",
    "    except:\n",
    "        continue"
   ]
  },
  {
   "cell_type": "code",
   "execution_count": null,
   "metadata": {},
   "outputs": [],
   "source": [
    "plt.figure(figsize=(10,8))\n",
    "num_cols = [\"Artist Reputation\", \"Height\", \"Width\", \"Price Of Sculpture\", \"Base Shipping Price\", \"Weight\"]\n",
    "for col in num_cols:\n",
    "    plt.hist(train[col])\n",
    "    plt.title(f\"Distribution of {col}\")\n",
    "    plt.show()"
   ]
  },
  {
   "cell_type": "code",
   "execution_count": null,
   "metadata": {},
   "outputs": [],
   "source": [
    "num_bins = int(np.floor(1 + np.log2(len(train['Price Of Sculpture']))))\n",
    "num_bins"
   ]
  },
  {
   "cell_type": "code",
   "execution_count": null,
   "metadata": {},
   "outputs": [],
   "source": [
    "train.groupby('Material')['Price Of Sculpture'].mean()"
   ]
  },
  {
   "cell_type": "code",
   "execution_count": null,
   "metadata": {},
   "outputs": [],
   "source": [
    "train['price_bins'] = pd.cut(train['Price Of Sculpture'], bins=13, labels=False)"
   ]
  },
  {
   "cell_type": "code",
   "execution_count": null,
   "metadata": {},
   "outputs": [],
   "source": [
    "train['price_bins'].value_counts()"
   ]
  },
  {
   "cell_type": "code",
   "execution_count": null,
   "metadata": {},
   "outputs": [],
   "source": [
    "train['Material'] = train.groupby('price_bins')['Material'].apply(lambda x: x.fillna(x.value_counts().idxmax()))"
   ]
  },
  {
   "cell_type": "code",
   "execution_count": null,
   "metadata": {},
   "outputs": [],
   "source": [
    "plt.hist(x=train['Cost'])"
   ]
  },
  {
   "cell_type": "code",
   "execution_count": null,
   "metadata": {},
   "outputs": [],
   "source": [
    "train.info()"
   ]
  },
  {
   "cell_type": "code",
   "execution_count": null,
   "metadata": {},
   "outputs": [],
   "source": [
    "num_cols = [\"Artist Reputation\", \"Height\", \"Width\", \"Price Of Sculpture\", \"Base Shipping Price\"]"
   ]
  },
  {
   "cell_type": "code",
   "execution_count": null,
   "metadata": {},
   "outputs": [],
   "source": [
    "train.isna().sum()"
   ]
  },
  {
   "cell_type": "code",
   "execution_count": null,
   "metadata": {},
   "outputs": [],
   "source": [
    "train.describe()"
   ]
  },
  {
   "cell_type": "markdown",
   "metadata": {},
   "source": [
    "# Impute missing values"
   ]
  },
  {
   "cell_type": "code",
   "execution_count": null,
   "metadata": {},
   "outputs": [],
   "source": [
    "# num_cols\n",
    "num_cols = ['Artist Reputation', 'Height', 'Width', 'Weight']\n",
    "\n",
    "from sklearn.impute import KNNImputer\n",
    "\n",
    "knn_imputer = KNNImputer(n_neighbors=3)\n",
    "\n",
    "knn_imputer.fit(train[num_cols])\n",
    "\n",
    "new_X = knn_imputer.transform(train[num_cols])"
   ]
  },
  {
   "cell_type": "code",
   "execution_count": null,
   "metadata": {},
   "outputs": [],
   "source": [
    "new_X"
   ]
  },
  {
   "cell_type": "code",
   "execution_count": null,
   "metadata": {},
   "outputs": [],
   "source": [
    "train[num_cols] = new_X"
   ]
  },
  {
   "cell_type": "code",
   "execution_count": null,
   "metadata": {},
   "outputs": [],
   "source": [
    "# cat_cols\n",
    "cat_cols = ['Transport', 'Remote Location']\n",
    "train['price_bins'] = pd.cut(train['Price Of Sculpture'], bins=13, labels=False)\n",
    "train['Material'] = train.groupby('price_bins')['Material'].apply(lambda x: x.fillna(x.value_counts().idxmax()))\n",
    "\n",
    "for col in cat_cols:\n",
    "    train.loc[:, col] = train[col].fillna(\"NONE\")"
   ]
  },
  {
   "cell_type": "code",
   "execution_count": null,
   "metadata": {},
   "outputs": [],
   "source": [
    "train['Remote Location'].value_counts()"
   ]
  },
  {
   "cell_type": "code",
   "execution_count": null,
   "metadata": {},
   "outputs": [],
   "source": [
    "train['Cost'] = train['Cost'].abs()"
   ]
  },
  {
   "cell_type": "code",
   "execution_count": null,
   "metadata": {},
   "outputs": [],
   "source": [
    "codes = []\n",
    "\n",
    "for address in train['Customer Location']:\n",
    "    if ',' in address:\n",
    "        code = (address.split(',')[1]).split(' ')[2]\n",
    "    else:\n",
    "        code = address.split(' ')[2]\n",
    "        \n",
    "    codes.append(code)\n",
    "    \n",
    "train['Code'] = codes"
   ]
  },
  {
   "cell_type": "code",
   "execution_count": null,
   "metadata": {},
   "outputs": [],
   "source": [
    "cities = []\n",
    "\n",
    "for address in train['Customer Location']:\n",
    "    if ',' in address:\n",
    "        city = address.split(',')[0]\n",
    "    else:\n",
    "        city = address.split(' ')[0]\n",
    "        \n",
    "    cities.append(city)\n",
    "    \n",
    "train['City'] = cities"
   ]
  },
  {
   "cell_type": "code",
   "execution_count": null,
   "metadata": {},
   "outputs": [],
   "source": [
    "states = []\n",
    "\n",
    "for address in train['Customer Location']:\n",
    "    if ',' in address:\n",
    "        state = (address.split(',')[1]).split(' ')[1]\n",
    "    else:\n",
    "        state = address.split(' ')[1]\n",
    "        \n",
    "    states.append(state)\n",
    "    \n",
    "train['State'] = states"
   ]
  },
  {
   "cell_type": "code",
   "execution_count": null,
   "metadata": {},
   "outputs": [],
   "source": [
    "train.drop(['Customer Location'], axis=1, inplace=True)"
   ]
  },
  {
   "cell_type": "markdown",
   "metadata": {},
   "source": [
    "# datetime cols"
   ]
  },
  {
   "cell_type": "code",
   "execution_count": null,
   "metadata": {},
   "outputs": [],
   "source": [
    "datetime_cols = ['Scheduled Date', 'Delivery Date']\n",
    "\n",
    "for col in datetime_cols:\n",
    "    train.loc[:, col] = pd.to_datetime(train[col], format='%m/%d/%y')"
   ]
  },
  {
   "cell_type": "code",
   "execution_count": null,
   "metadata": {},
   "outputs": [],
   "source": [
    "for col in datetime_cols:\n",
    "    string = (col.split(' ')[0]).lower()\n",
    "    train.loc[:, string + '_year'] = train[col].dt.year\n",
    "    train.loc[:, string + '_weekofyear'] = train[col].dt.weekofyear\n",
    "    train.loc[:, string + '_month'] = train[col].dt.month\n",
    "    train.loc[:, string + '_dayofweek'] = train[col].dt.dayofweek\n",
    "    train.loc[:, string + '_weekend'] = (train[col].dt.weekday >= 5).astype(int)"
   ]
  },
  {
   "cell_type": "code",
   "execution_count": null,
   "metadata": {},
   "outputs": [],
   "source": [
    "\n",
    "    "
   ]
  },
  {
   "cell_type": "code",
   "execution_count": null,
   "metadata": {},
   "outputs": [],
   "source": [
    "train.drop(datetime_cols, axis=1, inplace=True)"
   ]
  },
  {
   "cell_type": "code",
   "execution_count": null,
   "metadata": {},
   "outputs": [],
   "source": [
    "train.drop(['Artist Name'], axis=1, inplace=True)"
   ]
  },
  {
   "cell_type": "code",
   "execution_count": null,
   "metadata": {},
   "outputs": [],
   "source": [
    "train.to_csv(\"../input/train_cleaned_1.csv\", index=False)"
   ]
  },
  {
   "cell_type": "code",
   "execution_count": null,
   "metadata": {},
   "outputs": [],
   "source": [
    "train.describe()"
   ]
  },
  {
   "cell_type": "markdown",
   "metadata": {},
   "source": [
    "# Clean test"
   ]
  },
  {
   "cell_type": "code",
   "execution_count": null,
   "metadata": {},
   "outputs": [],
   "source": [
    "test = pd.read_csv(\"../input/test.csv\")"
   ]
  },
  {
   "cell_type": "code",
   "execution_count": null,
   "metadata": {},
   "outputs": [],
   "source": [
    "test.isna().sum()"
   ]
  },
  {
   "cell_type": "code",
   "execution_count": null,
   "metadata": {},
   "outputs": [],
   "source": [
    "# num_cols\n",
    "num_cols = ['Artist Reputation', 'Height', 'Width', 'Weight']\n",
    "\n",
    "from sklearn.impute import KNNImputer\n",
    "\n",
    "knn_imputer = KNNImputer(n_neighbors=3)\n",
    "\n",
    "knn_imputer.fit(test[num_cols])\n",
    "\n",
    "test[num_cols] = knn_imputer.transform(test[num_cols])"
   ]
  },
  {
   "cell_type": "code",
   "execution_count": null,
   "metadata": {},
   "outputs": [],
   "source": [
    "# cat_cols\n",
    "cat_cols = ['Transport', 'Remote Location']\n",
    "test['price_bins'] = pd.cut(test['Price Of Sculpture'], bins=13, labels=False)\n",
    "test['Material'] = test.groupby('price_bins')['Material'].apply(lambda x: x.fillna(x.value_counts().idxmax()))\n",
    "\n",
    "for col in cat_cols:\n",
    "    test.loc[:, col] = test[col].fillna(\"NONE\")"
   ]
  },
  {
   "cell_type": "code",
   "execution_count": null,
   "metadata": {},
   "outputs": [],
   "source": [
    "cities = []\n",
    "\n",
    "for address in test['Customer Location']:\n",
    "    if ',' in address:\n",
    "        city = address.split(',')[0]\n",
    "    else:\n",
    "        city = address.split(' ')[0]\n",
    "        \n",
    "    cities.append(city)\n",
    "    \n",
    "test['City'] = cities"
   ]
  },
  {
   "cell_type": "code",
   "execution_count": null,
   "metadata": {},
   "outputs": [],
   "source": [
    "states = []\n",
    "\n",
    "for address in test['Customer Location']:\n",
    "    if ',' in address:\n",
    "        state = (address.split(',')[1]).split(' ')[1]\n",
    "    else:\n",
    "        state = address.split(' ')[1]\n",
    "        \n",
    "    states.append(state)\n",
    "    \n",
    "test['State'] = states"
   ]
  },
  {
   "cell_type": "code",
   "execution_count": null,
   "metadata": {},
   "outputs": [],
   "source": [
    "codes = []\n",
    "\n",
    "for address in test['Customer Location']:\n",
    "    if ',' in address:\n",
    "        code = (address.split(',')[1]).split(' ')[2]\n",
    "    else:\n",
    "        code = address.split(' ')[2]\n",
    "        \n",
    "    codes.append(code)\n",
    "    \n",
    "test['Code'] = codes"
   ]
  },
  {
   "cell_type": "code",
   "execution_count": null,
   "metadata": {},
   "outputs": [],
   "source": [
    "test.drop('Customer Location', axis=1, inplace=True)"
   ]
  },
  {
   "cell_type": "code",
   "execution_count": null,
   "metadata": {},
   "outputs": [],
   "source": [
    "datetime_cols = ['Scheduled Date', 'Delivery Date']\n",
    "\n",
    "for col in datetime_cols:\n",
    "    test.loc[:, col] = pd.to_datetime(test[col], format='%m/%d/%y')"
   ]
  },
  {
   "cell_type": "code",
   "execution_count": null,
   "metadata": {},
   "outputs": [],
   "source": [
    "for col in datetime_cols:\n",
    "    string = (col.split(' ')[0]).lower()\n",
    "    test.loc[:, string + '_year'] = test[col].dt.year\n",
    "    test.loc[:, string + '_weekofyear'] = test[col].dt.weekofyear\n",
    "    test.loc[:, string + '_month'] = test[col].dt.month\n",
    "    test.loc[:, string + '_dayofweek'] = test[col].dt.dayofweek\n",
    "    test.loc[:, string + '_weekend'] = (test[col].dt.weekday >= 5).astype(int)"
   ]
  },
  {
   "cell_type": "code",
   "execution_count": null,
   "metadata": {},
   "outputs": [],
   "source": [
    "test.drop(datetime_cols, axis=1, inplace=True)"
   ]
  },
  {
   "cell_type": "code",
   "execution_count": null,
   "metadata": {},
   "outputs": [],
   "source": [
    "test.drop(['Artist Name'], axis=1, inplace=True)"
   ]
  },
  {
   "cell_type": "code",
   "execution_count": null,
   "metadata": {},
   "outputs": [],
   "source": [
    "test.to_csv(\"../input/test_cleaned_1.csv\", index=False)"
   ]
  },
  {
   "cell_type": "markdown",
   "metadata": {},
   "source": [
    "# Transformation"
   ]
  },
  {
   "cell_type": "code",
   "execution_count": null,
   "metadata": {},
   "outputs": [],
   "source": [
    "from scipy.stats import boxcox"
   ]
  },
  {
   "cell_type": "code",
   "execution_count": null,
   "metadata": {},
   "outputs": [],
   "source": [
    "train_cleaned = pd.read_csv(\"../input/train_cleaned.csv\")"
   ]
  },
  {
   "cell_type": "code",
   "execution_count": null,
   "metadata": {},
   "outputs": [],
   "source": [
    "plt.figure(figsize=(12,8))\n",
    "plt.hist(np.log(train_cleaned['Cost']))"
   ]
  },
  {
   "cell_type": "code",
   "execution_count": null,
   "metadata": {},
   "outputs": [],
   "source": [
    "max(np.log(train_cleaned['Cost']))"
   ]
  },
  {
   "cell_type": "code",
   "execution_count": null,
   "metadata": {},
   "outputs": [],
   "source": [
    "train_cleaned['Cost'], lam = boxcox(train_cleaned['Cost'])\n",
    "print('Lambda: %f' % lam)"
   ]
  },
  {
   "cell_type": "code",
   "execution_count": null,
   "metadata": {},
   "outputs": [],
   "source": [
    "import seaborn as sns\n",
    "sns.histplot(boxcox(train_cleaned['Cost'], -0.398686))"
   ]
  },
  {
   "cell_type": "code",
   "execution_count": null,
   "metadata": {},
   "outputs": [],
   "source": [
    "train_cleaned.columns"
   ]
  },
  {
   "cell_type": "code",
   "execution_count": null,
   "metadata": {},
   "outputs": [],
   "source": [
    "df = pd.read_csv(\"../submissions/lbl_cb.csv\")"
   ]
  },
  {
   "cell_type": "code",
   "execution_count": null,
   "metadata": {},
   "outputs": [],
   "source": [
    "df[df.Cost == np.nan]"
   ]
  },
  {
   "cell_type": "code",
   "execution_count": null,
   "metadata": {},
   "outputs": [],
   "source": [
    "df.describe()"
   ]
  },
  {
   "cell_type": "code",
   "execution_count": null,
   "metadata": {},
   "outputs": [],
   "source": [
    "df = pd.read_csv(\"../submissions/lbl_cb.csv\")"
   ]
  },
  {
   "cell_type": "code",
   "execution_count": null,
   "metadata": {},
   "outputs": [],
   "source": [
    "df[df.Cost == np.nan]"
   ]
  },
  {
   "cell_type": "code",
   "execution_count": null,
   "metadata": {},
   "outputs": [],
   "source": []
  }
 ],
 "metadata": {
  "kernelspec": {
   "display_name": "Python 3",
   "language": "python",
   "name": "python3"
  },
  "language_info": {
   "codemirror_mode": {
    "name": "ipython",
    "version": 3
   },
   "file_extension": ".py",
   "mimetype": "text/x-python",
   "name": "python",
   "nbconvert_exporter": "python",
   "pygments_lexer": "ipython3",
   "version": "3.7.7"
  }
 },
 "nbformat": 4,
 "nbformat_minor": 4
}
